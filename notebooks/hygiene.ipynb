{
 "cells": [
  {
   "cell_type": "markdown",
   "id": "cdd4f3c8-b7d1-458a-aeed-38da76b187f8",
   "metadata": {},
   "source": [
    "## Setting Up"
   ]
  },
  {
   "cell_type": "markdown",
   "id": "124ce441-1247-4318-8094-4327767474d8",
   "metadata": {},
   "source": [
    "The package & hub directories"
   ]
  },
  {
   "cell_type": "code",
   "execution_count": 1,
   "id": "8b1603ee-6922-4d19-b926-ccefb5a90033",
   "metadata": {},
   "outputs": [],
   "source": [
    "setwd(dirname(getwd()))"
   ]
  },
  {
   "cell_type": "code",
   "execution_count": 2,
   "id": "c4f08cc0-aad3-4379-9889-f8d90163786f",
   "metadata": {},
   "outputs": [],
   "source": [
    "hub = base::dirname(getwd())"
   ]
  },
  {
   "cell_type": "markdown",
   "id": "a06117ae-0503-4b4d-bb76-e9deb36b5e21",
   "metadata": {},
   "source": [
    "<br>\n",
    "\n",
    "The hygiene function"
   ]
  },
  {
   "cell_type": "code",
   "execution_count": 3,
   "id": "fc516a97-2249-4ca1-9c2f-f2276db85451",
   "metadata": {},
   "outputs": [],
   "source": [
    "source(file = 'R/features/WASH/Hygiene.R')"
   ]
  },
  {
   "cell_type": "markdown",
   "id": "832080c5-7c64-4a21-b0ef-8ba01fbd1ac1",
   "metadata": {},
   "source": [
    "<br>\n",
    "\n",
    "## Experiments & Hygiene Data"
   ]
  },
  {
   "cell_type": "markdown",
   "id": "a09bc5a9-47b6-498f-9dc6-7fdb443063fb",
   "metadata": {},
   "source": [
    "### The experiments data"
   ]
  },
  {
   "cell_type": "code",
   "execution_count": 4,
   "id": "f8d69886-ad51-46b6-9007-6fdeeafda960",
   "metadata": {},
   "outputs": [],
   "source": [
    "# the list of experiment files\n",
    "files <- list.files(path = file.path(hub,\n",
    "                                     'infections', 'warehouse', 'data', 'ESPEN', 'networks', 'graphs'),\n",
    "                    full.names = TRUE)"
   ]
  },
  {
   "cell_type": "markdown",
   "id": "e5dc5463-046f-4268-85ef-1a2f985d2877",
   "metadata": {},
   "source": [
    "<br>\n",
    "\n",
    "### Merging experiments & hygiene data"
   ]
  },
  {
   "cell_type": "markdown",
   "id": "8c03b69c-8ca7-4a74-9c3e-de1e55320a40",
   "metadata": {},
   "source": [
    "\n",
    "The arguments for the Hygiene function"
   ]
  },
  {
   "cell_type": "code",
   "execution_count": 5,
   "id": "e13c22ac-cb2a-445c-9804-474fa0f4c626",
   "metadata": {},
   "outputs": [],
   "source": [
    "repo <- file.path(getwd(), 'data', 'WASH')\n",
    "types <- c(rep('sewer', times = 5), rep('water', times = 5))\n",
    "items <- c('IHME_LMIC_WASH_2000_2017_S_IMP_PERCENT_MEAN_', 'IHME_LMIC_WASH_2000_2017_S_IMP_OTHER_PERCENT_MEAN_',\n",
    "           'IHME_LMIC_WASH_2000_2017_S_OD_PERCENT_MEAN_', 'IHME_LMIC_WASH_2000_2017_S_PIPED_PERCENT_MEAN_',\n",
    "           'IHME_LMIC_WASH_2000_2017_S_UNIMP_PERCENT_MEAN_', 'IHME_LMIC_WASH_2000_2017_W_IMP_PERCENT_MEAN_',\n",
    "           'IHME_LMIC_WASH_2000_2017_W_IMP_OTHER_PERCENT_MEAN_', 'IHME_LMIC_WASH_2000_2017_W_SURFACE_PERCENT_MEAN_',\n",
    "           'IHME_LMIC_WASH_2000_2017_W_PIPED_PERCENT_MEAN_', 'IHME_LMIC_WASH_2000_2017_W_UNIMP_PERCENT_MEAN_')\n",
    "variables <- c('improved', 'unpiped', 'surface', 'piped', 'unimproved',\n",
    "               'improved', 'unpiped', 'surface', 'piped', 'unimproved')\n",
    "affix <- '_Y2020M06D02.TIF'"
   ]
  },
  {
   "cell_type": "markdown",
   "id": "52c352fa-3e28-45de-80c1-0176a35b1adf",
   "metadata": {},
   "source": [
    "<br>\n",
    "\n",
    "Temporary storage"
   ]
  },
  {
   "cell_type": "code",
   "execution_count": 6,
   "id": "e3d816b8-4985-406f-912e-25e719f295d0",
   "metadata": {},
   "outputs": [],
   "source": [
    "storage <- file.path(getwd(), 'notebooks')"
   ]
  },
  {
   "cell_type": "code",
   "execution_count": 7,
   "id": "422d073b-2640-4db4-b733-b7068cb4ab4a",
   "metadata": {},
   "outputs": [],
   "source": [
    "unlink(file.path(storage, '*.csv'))"
   ]
  },
  {
   "cell_type": "markdown",
   "id": "12a5f4b1-6e79-4bd8-b67c-1fdefdbb0a95",
   "metadata": {},
   "source": [
    "<br>\n",
    "\n",
    "Test"
   ]
  },
  {
   "cell_type": "code",
   "execution_count": 8,
   "id": "4377348e-8045-4631-b0f9-29f39d041aba",
   "metadata": {},
   "outputs": [],
   "source": [
    "set.seed(NULL)\n",
    "index <- base::sample(x = 1:length(files), size = 1, replace = FALSE)"
   ]
  },
  {
   "cell_type": "code",
   "execution_count": 9,
   "id": "70567d87-7d75-4b73-8015-a79c86529f21",
   "metadata": {},
   "outputs": [
    {
     "name": "stdout",
     "output_type": "stream",
     "text": [
      "'data.frame':\t45 obs. of  42 variables:\n",
      " $ iso3            : chr  \"LSO\" \"LSO\" \"LSO\" \"LSO\" ...\n",
      " $ iso2            : chr  \"LS\" \"LS\" \"LS\" \"LS\" ...\n",
      " $ admin1_id       : int  2645 2637 2641 2644 2636 2639 2637 2637 2645 2640 ...\n",
      " $ admin2_id       : int  0 0 0 0 0 0 0 0 0 0 ...\n",
      " $ iu_id           : int  25817 25809 25813 25816 25808 25811 25809 25809 25817 25812 ...\n",
      " $ location        : chr  \"bocheletsane\" \"damaseka primary school\" \"hloahloeng\" \"koali primary\" ...\n",
      " $ site_id         : int  12683 12643 12663 12678 12638 12653 12644 12645 12684 12658 ...\n",
      " $ longitude       : num  28.3 28.4 28.2 27.8 27.6 ...\n",
      " $ latitude        : num  -29.5 -28.8 -30 -30.3 -29.3 ...\n",
      " $ georeliability  : int  1 1 1 1 1 4 3 3 3 3 ...\n",
      " $ location_type   : logi  NA NA NA NA NA NA ...\n",
      " $ survey_type     : logi  NA NA NA NA NA NA ...\n",
      " $ year            : int  2015 2015 2015 2015 2015 2015 2015 2015 2015 2015 ...\n",
      " $ age_start       : logi  NA NA NA NA NA NA ...\n",
      " $ age_end         : logi  NA NA NA NA NA NA ...\n",
      " $ hk_examined     : int  50 50 50 50 51 50 50 50 50 50 ...\n",
      " $ hk_positive     : int  0 0 0 0 0 1 1 0 0 0 ...\n",
      " $ asc_examined    : int  50 50 50 50 51 50 50 50 50 50 ...\n",
      " $ asc_positive    : int  33 3 22 28 17 5 10 5 23 2 ...\n",
      " $ tt_examined     : int  50 50 50 50 51 50 50 50 50 50 ...\n",
      " $ tt_positive     : int  0 49 0 0 2 0 49 50 0 0 ...\n",
      " $ quality         : int  1 1 1 1 1 1 1 1 1 1 ...\n",
      " $ sn              : int  8778 8740 8759 8774 8735 8751 8738 8741 8779 8754 ...\n",
      " $ hk_prevalence   : num  0 0 0 0 0 0.02 0.02 0 0 0 ...\n",
      " $ asc_prevalence  : num  0.66 0.06 0.44 0.56 0.333 ...\n",
      " $ tt_prevalence   : num  0 0.98 0 0 0.0392 ...\n",
      " $ sth_prevalence  : num  0.623 0.926 0.415 0.528 0.339 ...\n",
      " $ shortest        : num  11123 4298 20243 17363 4573 ...\n",
      " $ id              : int  0 1 2 3 4 5 6 7 8 9 ...\n",
      " $ src             : int  0 1 2 3 4 5 6 7 8 9 ...\n",
      " $ dst             : int  0 1 2 3 4 5 6 7 8 9 ...\n",
      " $ identifier      : int  1 2 3 4 5 6 7 8 9 10 ...\n",
      " $ improved_sewer  : num  19.56 16.83 9.45 37.84 34.17 ...\n",
      " $ unpiped_sewer   : num  19.53 16.79 9.42 37.76 33.03 ...\n",
      " $ surface_sewer   : num  64.12 61.96 78.46 34.24 3.99 ...\n",
      " $ piped_sewer     : num  0.0285 0.0361 0.0327 0.0782 1.1388 ...\n",
      " $ unimproved_sewer: num  16.3 21.2 12.1 27.9 61.8 ...\n",
      " $ improved_water  : num  79.5 92.8 72.8 96.1 96.6 ...\n",
      " $ unpiped_water   : num  3.201 6.641 6.693 0.277 2.523 ...\n",
      " $ surface_water   : num  0.146 0.257 0.331 0.103 0.03 ...\n",
      " $ piped_water     : num  76.3 86.1 66.1 95.8 94.1 ...\n",
      " $ unimproved_water: num  20.33 6.95 26.88 3.83 3.33 ...\n"
     ]
    }
   ],
   "source": [
    "Hygiene(file = files[index], variables = variables, items = items, types = types, repo = repo, affix = affix, storage = storage)"
   ]
  }
 ],
 "metadata": {
  "kernelspec": {
   "display_name": "R",
   "language": "R",
   "name": "ir"
  },
  "language_info": {
   "codemirror_mode": "r",
   "file_extension": ".r",
   "mimetype": "text/x-r-source",
   "name": "R",
   "pygments_lexer": "r",
   "version": "4.1.2"
  }
 },
 "nbformat": 4,
 "nbformat_minor": 5
}
