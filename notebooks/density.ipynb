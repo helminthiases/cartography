{
 "cells": [
  {
   "cell_type": "markdown",
   "id": "f1cacee6-7a96-4cbb-b555-51a36f1beee2",
   "metadata": {},
   "source": [
    "<br>\n",
    "<br>\n",
    "\n",
    "**Population Densities & Missing Years**\n",
    "\n",
    "<br>"
   ]
  },
  {
   "cell_type": "markdown",
   "id": "fceb3583-b117-491a-b6ff-c42b0582ac61",
   "metadata": {},
   "source": [
    "## Setting Up"
   ]
  },
  {
   "cell_type": "code",
   "execution_count": 1,
   "id": "796ad28b-a417-4dee-b8f5-991ca0e122f4",
   "metadata": {},
   "outputs": [
    {
     "data": {
      "text/html": [
       "'J:/library/helminthiases/spatial'"
      ],
      "text/latex": [
       "'J:/library/helminthiases/spatial'"
      ],
      "text/markdown": [
       "'J:/library/helminthiases/spatial'"
      ],
      "text/plain": [
       "[1] \"J:/library/helminthiases/spatial\""
      ]
     },
     "metadata": {},
     "output_type": "display_data"
    }
   ],
   "source": [
    "setwd(base::dirname(getwd()))\n",
    "getwd()"
   ]
  },
  {
   "cell_type": "markdown",
   "id": "74135071-ff22-4005-8c9f-b4b4e3987f0a",
   "metadata": {},
   "source": [
    "<br>\n",
    "\n",
    "## Functions"
   ]
  },
  {
   "cell_type": "markdown",
   "id": "266078c8-3141-4f3b-aa2b-e3bddcfafa85",
   "metadata": {},
   "source": [
    "A data frame for each map year"
   ]
  },
  {
   "cell_type": "code",
   "execution_count": 2,
   "id": "a60f19f9-468a-4f45-afe4-69a61ebd8a22",
   "metadata": {},
   "outputs": [],
   "source": [
    "#' @describe For a given year, this function extracts the estimated population density, per longitude & latitude \n",
    "#'           pair, from the year's world population dentsity map\n",
    "#'\n",
    "#' @param year: The year of interest.\n",
    "#' @param root: The location of the year's map file.\n",
    "#' @param affix: The affix of the map file name.\n",
    "#' @param frame: A data frame consisting of the longitude & latitude points of interest\n",
    "#' \n",
    "temporary <- function (year, root, affix, frame) {\n",
    "\n",
    "  # map\n",
    "  path <- file.path(root, paste0(year, affix))\n",
    "  map <- terra::rast(file.path(path))\n",
    "\n",
    "  # The longitude & latitude points\n",
    "  points <- frame[, c('longitude', 'latitude')]\n",
    "\n",
    "  # Variable values w.r.t. ...\n",
    "  derivations <- terra::extract(x = map, y = points, method = 'bilinear', xy = TRUE)\n",
    "  row.names(derivations) <- row.names(frame)\n",
    "\n",
    "  # Drop the record number field, i.e., drop <ID>\n",
    "  derivations <- base::subset(x = derivations, select = -ID)\n",
    "\n",
    "  # The field names\n",
    "  estimate <- colnames(derivations)[startsWith(colnames(derivations), prefix = 'gpw_v4_')]\n",
    "  derivations <- dplyr::rename(derivations, 'estimate' = dplyr::all_of(estimate), 'longitude' = 'x', 'latitude' = 'y')\n",
    "\n",
    "  # unique observation code\n",
    "  derivations$id <- frame$id\n",
    "\n",
    "  # year\n",
    "  derivations$year <- as.integer(year)\n",
    "\n",
    "  return(list(derivations))\n",
    "\n",
    "}"
   ]
  },
  {
   "cell_type": "markdown",
   "id": "d0b398fb-d328-4082-b54c-362e63a35001",
   "metadata": {},
   "source": [
    "<br>\n",
    "\n",
    "## Density Estimates"
   ]
  },
  {
   "cell_type": "markdown",
   "id": "f21992fa-0509-40db-bc4b-f79aec02f81a",
   "metadata": {
    "tags": []
   },
   "source": [
    "### The Experiments"
   ]
  },
  {
   "cell_type": "markdown",
   "id": "1770cd29-4f8e-46ed-b44d-0051615f2c6b",
   "metadata": {},
   "source": [
    "The list of experiment files"
   ]
  },
  {
   "cell_type": "code",
   "execution_count": 3,
   "id": "0ec5021b-2b71-4b9c-a6d3-7880cfa4dbdc",
   "metadata": {},
   "outputs": [],
   "source": [
    "files <- list.files(path = file.path(getwd(), 'warehouse', 'ESPEN', 'experiments', 'extended'),\n",
    "                    full.names = TRUE)"
   ]
  },
  {
   "cell_type": "markdown",
   "id": "2c6c6d6b-f39d-4706-8e0c-6063deeef0ec",
   "metadata": {},
   "source": [
    "<br>\n",
    "\n",
    "A sample file"
   ]
  },
  {
   "cell_type": "code",
   "execution_count": 4,
   "id": "9df4014d-6b57-441b-ad5a-a0fa38045463",
   "metadata": {},
   "outputs": [
    {
     "name": "stdout",
     "output_type": "stream",
     "text": [
      "'data.frame':\t357 obs. of  42 variables:\n",
      " $ iso3            : chr  \"BDI\" \"BDI\" \"BDI\" \"BDI\" ...\n",
      " $ iso2            : chr  \"BI\" \"BI\" \"BI\" \"BI\" ...\n",
      " $ admin1_id       : int  706 715 702 717 710 710 709 717 705 705 ...\n",
      " $ admin2_id       : int  6389 6414 6378 6418 6402 6402 6396 6419 6387 6387 ...\n",
      " $ iu_id           : int  6389 6414 6378 6418 6402 6402 6396 6419 6387 6387 ...\n",
      " $ location        : chr  \"bitare\" \"buhiga ii\" \"buhina\" \"buhonga\" ...\n",
      " $ site_id         : int  NA NA 10243 NA NA 10373 NA NA NA 10314 ...\n",
      " $ longitude       : num  29.3 29.8 29.4 30.3 30.1 ...\n",
      " $ latitude        : num  -2.88 -2.91 -3.45 -3.65 -2.69 ...\n",
      " $ georeliability  : int  1 3 1 1 1 1 3 1 3 3 ...\n",
      " $ location_type   : chr  \"school\" \"school\" \"\" \"school\" ...\n",
      " $ survey_type     : chr  \"mapping\" \"mapping\" \"\" \"mapping\" ...\n",
      " $ year            : int  2014 2016 2014 2014 2014 2014 2014 2014 2014 2014 ...\n",
      " $ age_start       : int  12 13 NA 12 12 NA 13 12 12 NA ...\n",
      " $ age_end         : int  14 14 NA 16 15 NA 14 16 15 NA ...\n",
      " $ hk_examined     : int  50 50 47 50 50 50 50 50 50 50 ...\n",
      " $ hk_positive     : int  2 0 0 1 1 1 2 2 7 6 ...\n",
      " $ asc_examined    : int  50 50 47 50 50 50 50 50 50 50 ...\n",
      " $ asc_positive    : int  3 9 12 1 2 1 4 3 0 0 ...\n",
      " $ tt_examined     : int  50 50 47 50 50 50 50 50 50 50 ...\n",
      " $ tt_positive     : int  0 24 9 0 0 0 0 0 0 0 ...\n",
      " $ quality         : int  1 1 1 1 1 1 1 1 1 1 ...\n",
      " $ sn              : int  23394 23577 18499 23613 23476 18630 23438 23623 23371 2185 ...\n",
      " $ hk_prevalence   : num  0.04 0 0 0.02 0.02 0.02 0.04 0.04 0.14 0.12 ...\n",
      " $ asc_prevalence  : num  0.06 0.18 0.255 0.02 0.04 ...\n",
      " $ tt_prevalence   : num  0 0.48 0.191 0 0 ...\n",
      " $ sth_prevalence  : num  0.0921 0.5411 0.3754 0.0374 0.0558 ...\n",
      " $ shortest        : num  7594 5575 5123 6853 0 ...\n",
      " $ id              : int  0 1 2 3 4 5 6 7 8 9 ...\n",
      " $ src             : int  0 1 2 3 4 5 6 7 8 9 ...\n",
      " $ dst             : int  0 1 2 3 5 4 6 7 9 8 ...\n",
      " $ identifier      : int  1 2 3 4 5 5 6 7 8 8 ...\n",
      " $ improved_sewer  : num  41.73 52.48 72.43 65.29 8.77 ...\n",
      " $ unpiped_sewer   : num  40.45 37.53 72.36 65.11 8.63 ...\n",
      " $ surface_sewer   : num  0.954 4.032 0.091 0.406 6.376 ...\n",
      " $ piped_sewer     : num  1.2818 14.9586 0.0723 0.1864 0.1328 ...\n",
      " $ unimproved_sewer: num  57.3 43.5 27.5 34.3 84.9 ...\n",
      " $ improved_water  : num  68.6 78.2 82.9 63.1 98.9 ...\n",
      " $ unpiped_water   : num  33.5 64.5 36.7 45 71.8 ...\n",
      " $ surface_water   : num  1.386 0.268 0.646 21.554 0.365 ...\n",
      " $ piped_water     : num  35.2 13.7 46.2 18.1 27.1 ...\n",
      " $ unimproved_water: num  29.985 21.522 16.42 15.302 0.706 ...\n"
     ]
    }
   ],
   "source": [
    "frame <- read.csv(file = files[3])\n",
    "str(frame)"
   ]
  },
  {
   "cell_type": "markdown",
   "id": "8b5ba485-bea7-4a89-8cea-74e4248551e9",
   "metadata": {},
   "source": [
    "<br>\n",
    "\n",
    "### Experiment Co&ouml;rdinates & Density Estimates"
   ]
  },
  {
   "cell_type": "markdown",
   "id": "f870b173-de65-41cd-ae57-78dd8c54fe31",
   "metadata": {},
   "source": [
    "\n",
    "Arguments"
   ]
  },
  {
   "cell_type": "code",
   "execution_count": 5,
   "id": "02d4ff07-e15b-49ca-b0f1-bed393bbda1f",
   "metadata": {},
   "outputs": [],
   "source": [
    "years <- seq(from = 2000, to = 2020, by = 5)\n",
    "root <- file.path(getwd(), 'data', 'population')\n",
    "affix <- '_30s.tif'"
   ]
  },
  {
   "cell_type": "markdown",
   "id": "bf7f6bd6-cc67-4419-b69d-23e7d682bee4",
   "metadata": {},
   "source": [
    "<br>\n",
    "\n",
    "Next, extracting population density estimates, per map year, from the \n",
    "\n",
    "* [`geodata`](https://github.com/rspatial/geodata#data): The `geodata` population density maps are [accessible directly](https://geodata.ucdavis.edu/geodata/pop/), and are the Gridded Population of the World maps.\n",
    "* [Gridded Populations of the World](https://sedac.ciesin.columbia.edu/data/collection/gpw-v4/documentation)\n",
    "\n",
    "Map year estimates only exist for the years $2000,2005, 2010, 2015, 2020$"
   ]
  },
  {
   "cell_type": "code",
   "execution_count": 6,
   "id": "b6714c4e-260a-45c3-80bb-c7ed64e7010e",
   "metadata": {},
   "outputs": [],
   "source": [
    "estimates <- mapply(FUN = temporary, year = years, MoreArgs = list(root = root, affix = affix, frame = frame))\n",
    "estimates <- dplyr::bind_rows(dplyr::all_of(estimates))\n",
    "row.names(estimates) <- NULL"
   ]
  },
  {
   "cell_type": "code",
   "execution_count": 7,
   "id": "b5d7fa19-01f1-4261-9bb0-8e8fbf7b8d5e",
   "metadata": {},
   "outputs": [
    {
     "name": "stdout",
     "output_type": "stream",
     "text": [
      "'data.frame':\t1785 obs. of  5 variables:\n",
      " $ estimate : num  203 392 808 132 381 ...\n",
      " $ longitude: num  29.3 29.8 29.4 30.3 30.1 ...\n",
      " $ latitude : num  -2.88 -2.91 -3.45 -3.65 -2.69 ...\n",
      " $ id       : int  0 1 2 3 4 5 6 7 8 9 ...\n",
      " $ year     : int  2000 2000 2000 2000 2000 2000 2000 2000 2000 2000 ...\n"
     ]
    }
   ],
   "source": [
    "str(estimates)"
   ]
  },
  {
   "cell_type": "markdown",
   "id": "8003527b-d72d-407e-b94d-c481d7fbe473",
   "metadata": {},
   "source": [
    "<br>\n",
    "\n",
    "### Interpolations"
   ]
  },
  {
   "cell_type": "markdown",
   "id": "16b5e51e-4f5c-4d45-abe1-eb7e2e83b65b",
   "metadata": {},
   "source": [
    "A set of observations that share the same longitude/latitude co&ouml;rdinates "
   ]
  },
  {
   "cell_type": "code",
   "execution_count": 8,
   "id": "77bc8055-adad-4105-a22d-9d14a9ea2d6c",
   "metadata": {},
   "outputs": [],
   "source": [
    "partition <- estimates[estimates$id == 0, c('year', 'estimate')]"
   ]
  },
  {
   "cell_type": "markdown",
   "id": "91d46e76-dc5c-4f27-a02c-8645cdf71f9e",
   "metadata": {},
   "source": [
    "<br>\n",
    "\n",
    "Missing years"
   ]
  },
  {
   "cell_type": "code",
   "execution_count": 9,
   "id": "1fa3cdcb-4b73-46a3-b62d-cf5b3556f162",
   "metadata": {},
   "outputs": [],
   "source": [
    "missing <- seq(from = 2000, to = 2020)\n",
    "missing <- missing[!(missing %in% years)]"
   ]
  },
  {
   "cell_type": "markdown",
   "id": "6237311b-b535-4a22-b4fd-8d715884e933",
   "metadata": {},
   "source": [
    "<br>\n",
    "\n",
    "Interpolation"
   ]
  },
  {
   "cell_type": "code",
   "execution_count": 10,
   "id": "02788d1a-5da7-4c14-9459-73eb5c67c8be",
   "metadata": {},
   "outputs": [],
   "source": [
    "extra <- stats::spline(x = partition$year, y = partition$estimate, method = 'natural', xout = missing)\n",
    "extra <- data.frame(extra)\n",
    "extra <- dplyr::rename(extra, 'year' = 'x', 'estimate' = 'y')\n",
    "extra$year <- as.integer(extra$year)"
   ]
  },
  {
   "cell_type": "markdown",
   "id": "12e0d275-12d7-4b07-af3f-11665b913401",
   "metadata": {},
   "source": [
    "<br>\n",
    "\n",
    "Collating"
   ]
  },
  {
   "cell_type": "code",
   "execution_count": 11,
   "id": "5d71a9f8-8015-47ba-adbe-b395962f3580",
   "metadata": {},
   "outputs": [
    {
     "data": {
      "text/html": [
       "<table class=\"dataframe\">\n",
       "<caption>A data.frame: 21 × 2</caption>\n",
       "<thead>\n",
       "\t<tr><th></th><th scope=col>year</th><th scope=col>estimate</th></tr>\n",
       "\t<tr><th></th><th scope=col>&lt;int&gt;</th><th scope=col>&lt;dbl&gt;</th></tr>\n",
       "</thead>\n",
       "<tbody>\n",
       "\t<tr><th scope=row>1</th><td>2000</td><td>202.8000</td></tr>\n",
       "\t<tr><th scope=row>358</th><td>2005</td><td>219.6000</td></tr>\n",
       "\t<tr><th scope=row>715</th><td>2010</td><td>237.9000</td></tr>\n",
       "\t<tr><th scope=row>1072</th><td>2015</td><td>257.7000</td></tr>\n",
       "\t<tr><th scope=row>1429</th><td>2020</td><td>279.2000</td></tr>\n",
       "\t<tr><th scope=row>17</th><td>2001</td><td>206.0976</td></tr>\n",
       "\t<tr><th scope=row>2</th><td>2002</td><td>209.4108</td></tr>\n",
       "\t<tr><th scope=row>3</th><td>2003</td><td>212.7552</td></tr>\n",
       "\t<tr><th scope=row>4</th><td>2004</td><td>216.1464</td></tr>\n",
       "\t<tr><th scope=row>5</th><td>2006</td><td>223.1280</td></tr>\n",
       "\t<tr><th scope=row>6</th><td>2007</td><td>226.7280</td></tr>\n",
       "\t<tr><th scope=row>7</th><td>2008</td><td>230.3940</td></tr>\n",
       "\t<tr><th scope=row>8</th><td>2009</td><td>234.1200</td></tr>\n",
       "\t<tr><th scope=row>9</th><td>2011</td><td>241.7304</td></tr>\n",
       "\t<tr><th scope=row>10</th><td>2012</td><td>245.6172</td></tr>\n",
       "\t<tr><th scope=row>11</th><td>2013</td><td>249.5688</td></tr>\n",
       "\t<tr><th scope=row>12</th><td>2014</td><td>253.5936</td></tr>\n",
       "\t<tr><th scope=row>13</th><td>2016</td><td>261.8920</td></tr>\n",
       "\t<tr><th scope=row>14</th><td>2017</td><td>266.1560</td></tr>\n",
       "\t<tr><th scope=row>15</th><td>2018</td><td>270.4740</td></tr>\n",
       "\t<tr><th scope=row>16</th><td>2019</td><td>274.8280</td></tr>\n",
       "</tbody>\n",
       "</table>\n"
      ],
      "text/latex": [
       "A data.frame: 21 × 2\n",
       "\\begin{tabular}{r|ll}\n",
       "  & year & estimate\\\\\n",
       "  & <int> & <dbl>\\\\\n",
       "\\hline\n",
       "\t1 & 2000 & 202.8000\\\\\n",
       "\t358 & 2005 & 219.6000\\\\\n",
       "\t715 & 2010 & 237.9000\\\\\n",
       "\t1072 & 2015 & 257.7000\\\\\n",
       "\t1429 & 2020 & 279.2000\\\\\n",
       "\t17 & 2001 & 206.0976\\\\\n",
       "\t2 & 2002 & 209.4108\\\\\n",
       "\t3 & 2003 & 212.7552\\\\\n",
       "\t4 & 2004 & 216.1464\\\\\n",
       "\t5 & 2006 & 223.1280\\\\\n",
       "\t6 & 2007 & 226.7280\\\\\n",
       "\t7 & 2008 & 230.3940\\\\\n",
       "\t8 & 2009 & 234.1200\\\\\n",
       "\t9 & 2011 & 241.7304\\\\\n",
       "\t10 & 2012 & 245.6172\\\\\n",
       "\t11 & 2013 & 249.5688\\\\\n",
       "\t12 & 2014 & 253.5936\\\\\n",
       "\t13 & 2016 & 261.8920\\\\\n",
       "\t14 & 2017 & 266.1560\\\\\n",
       "\t15 & 2018 & 270.4740\\\\\n",
       "\t16 & 2019 & 274.8280\\\\\n",
       "\\end{tabular}\n"
      ],
      "text/markdown": [
       "\n",
       "A data.frame: 21 × 2\n",
       "\n",
       "| <!--/--> | year &lt;int&gt; | estimate &lt;dbl&gt; |\n",
       "|---|---|---|\n",
       "| 1 | 2000 | 202.8000 |\n",
       "| 358 | 2005 | 219.6000 |\n",
       "| 715 | 2010 | 237.9000 |\n",
       "| 1072 | 2015 | 257.7000 |\n",
       "| 1429 | 2020 | 279.2000 |\n",
       "| 17 | 2001 | 206.0976 |\n",
       "| 2 | 2002 | 209.4108 |\n",
       "| 3 | 2003 | 212.7552 |\n",
       "| 4 | 2004 | 216.1464 |\n",
       "| 5 | 2006 | 223.1280 |\n",
       "| 6 | 2007 | 226.7280 |\n",
       "| 7 | 2008 | 230.3940 |\n",
       "| 8 | 2009 | 234.1200 |\n",
       "| 9 | 2011 | 241.7304 |\n",
       "| 10 | 2012 | 245.6172 |\n",
       "| 11 | 2013 | 249.5688 |\n",
       "| 12 | 2014 | 253.5936 |\n",
       "| 13 | 2016 | 261.8920 |\n",
       "| 14 | 2017 | 266.1560 |\n",
       "| 15 | 2018 | 270.4740 |\n",
       "| 16 | 2019 | 274.8280 |\n",
       "\n"
      ],
      "text/plain": [
       "     year estimate\n",
       "1    2000 202.8000\n",
       "358  2005 219.6000\n",
       "715  2010 237.9000\n",
       "1072 2015 257.7000\n",
       "1429 2020 279.2000\n",
       "17   2001 206.0976\n",
       "2    2002 209.4108\n",
       "3    2003 212.7552\n",
       "4    2004 216.1464\n",
       "5    2006 223.1280\n",
       "6    2007 226.7280\n",
       "7    2008 230.3940\n",
       "8    2009 234.1200\n",
       "9    2011 241.7304\n",
       "10   2012 245.6172\n",
       "11   2013 249.5688\n",
       "12   2014 253.5936\n",
       "13   2016 261.8920\n",
       "14   2017 266.1560\n",
       "15   2018 270.4740\n",
       "16   2019 274.8280"
      ]
     },
     "metadata": {},
     "output_type": "display_data"
    }
   ],
   "source": [
    "extra <- rbind(partition[, c('year', 'estimate')], extra)\n",
    "extra"
   ]
  },
  {
   "cell_type": "markdown",
   "id": "441815cb-4de0-4ecd-9be3-5df0e3e5e1b0",
   "metadata": {},
   "source": [
    "<br>\n",
    "\n",
    "Arranging"
   ]
  },
  {
   "cell_type": "code",
   "execution_count": 12,
   "id": "6d23247c-5a79-4099-9565-18420f21779a",
   "metadata": {},
   "outputs": [
    {
     "data": {
      "text/html": [
       "<table class=\"dataframe\">\n",
       "<caption>A data.frame: 21 × 2</caption>\n",
       "<thead>\n",
       "\t<tr><th></th><th scope=col>year</th><th scope=col>estimate</th></tr>\n",
       "\t<tr><th></th><th scope=col>&lt;int&gt;</th><th scope=col>&lt;dbl&gt;</th></tr>\n",
       "</thead>\n",
       "<tbody>\n",
       "\t<tr><th scope=row>1</th><td>2000</td><td>202.8000</td></tr>\n",
       "\t<tr><th scope=row>17</th><td>2001</td><td>206.0976</td></tr>\n",
       "\t<tr><th scope=row>2</th><td>2002</td><td>209.4108</td></tr>\n",
       "\t<tr><th scope=row>3</th><td>2003</td><td>212.7552</td></tr>\n",
       "\t<tr><th scope=row>4</th><td>2004</td><td>216.1464</td></tr>\n",
       "\t<tr><th scope=row>358</th><td>2005</td><td>219.6000</td></tr>\n",
       "\t<tr><th scope=row>5</th><td>2006</td><td>223.1280</td></tr>\n",
       "\t<tr><th scope=row>6</th><td>2007</td><td>226.7280</td></tr>\n",
       "\t<tr><th scope=row>7</th><td>2008</td><td>230.3940</td></tr>\n",
       "\t<tr><th scope=row>8</th><td>2009</td><td>234.1200</td></tr>\n",
       "\t<tr><th scope=row>715</th><td>2010</td><td>237.9000</td></tr>\n",
       "\t<tr><th scope=row>9</th><td>2011</td><td>241.7304</td></tr>\n",
       "\t<tr><th scope=row>10</th><td>2012</td><td>245.6172</td></tr>\n",
       "\t<tr><th scope=row>11</th><td>2013</td><td>249.5688</td></tr>\n",
       "\t<tr><th scope=row>12</th><td>2014</td><td>253.5936</td></tr>\n",
       "\t<tr><th scope=row>1072</th><td>2015</td><td>257.7000</td></tr>\n",
       "\t<tr><th scope=row>13</th><td>2016</td><td>261.8920</td></tr>\n",
       "\t<tr><th scope=row>14</th><td>2017</td><td>266.1560</td></tr>\n",
       "\t<tr><th scope=row>15</th><td>2018</td><td>270.4740</td></tr>\n",
       "\t<tr><th scope=row>16</th><td>2019</td><td>274.8280</td></tr>\n",
       "\t<tr><th scope=row>1429</th><td>2020</td><td>279.2000</td></tr>\n",
       "</tbody>\n",
       "</table>\n"
      ],
      "text/latex": [
       "A data.frame: 21 × 2\n",
       "\\begin{tabular}{r|ll}\n",
       "  & year & estimate\\\\\n",
       "  & <int> & <dbl>\\\\\n",
       "\\hline\n",
       "\t1 & 2000 & 202.8000\\\\\n",
       "\t17 & 2001 & 206.0976\\\\\n",
       "\t2 & 2002 & 209.4108\\\\\n",
       "\t3 & 2003 & 212.7552\\\\\n",
       "\t4 & 2004 & 216.1464\\\\\n",
       "\t358 & 2005 & 219.6000\\\\\n",
       "\t5 & 2006 & 223.1280\\\\\n",
       "\t6 & 2007 & 226.7280\\\\\n",
       "\t7 & 2008 & 230.3940\\\\\n",
       "\t8 & 2009 & 234.1200\\\\\n",
       "\t715 & 2010 & 237.9000\\\\\n",
       "\t9 & 2011 & 241.7304\\\\\n",
       "\t10 & 2012 & 245.6172\\\\\n",
       "\t11 & 2013 & 249.5688\\\\\n",
       "\t12 & 2014 & 253.5936\\\\\n",
       "\t1072 & 2015 & 257.7000\\\\\n",
       "\t13 & 2016 & 261.8920\\\\\n",
       "\t14 & 2017 & 266.1560\\\\\n",
       "\t15 & 2018 & 270.4740\\\\\n",
       "\t16 & 2019 & 274.8280\\\\\n",
       "\t1429 & 2020 & 279.2000\\\\\n",
       "\\end{tabular}\n"
      ],
      "text/markdown": [
       "\n",
       "A data.frame: 21 × 2\n",
       "\n",
       "| <!--/--> | year &lt;int&gt; | estimate &lt;dbl&gt; |\n",
       "|---|---|---|\n",
       "| 1 | 2000 | 202.8000 |\n",
       "| 17 | 2001 | 206.0976 |\n",
       "| 2 | 2002 | 209.4108 |\n",
       "| 3 | 2003 | 212.7552 |\n",
       "| 4 | 2004 | 216.1464 |\n",
       "| 358 | 2005 | 219.6000 |\n",
       "| 5 | 2006 | 223.1280 |\n",
       "| 6 | 2007 | 226.7280 |\n",
       "| 7 | 2008 | 230.3940 |\n",
       "| 8 | 2009 | 234.1200 |\n",
       "| 715 | 2010 | 237.9000 |\n",
       "| 9 | 2011 | 241.7304 |\n",
       "| 10 | 2012 | 245.6172 |\n",
       "| 11 | 2013 | 249.5688 |\n",
       "| 12 | 2014 | 253.5936 |\n",
       "| 1072 | 2015 | 257.7000 |\n",
       "| 13 | 2016 | 261.8920 |\n",
       "| 14 | 2017 | 266.1560 |\n",
       "| 15 | 2018 | 270.4740 |\n",
       "| 16 | 2019 | 274.8280 |\n",
       "| 1429 | 2020 | 279.2000 |\n",
       "\n"
      ],
      "text/plain": [
       "     year estimate\n",
       "1    2000 202.8000\n",
       "17   2001 206.0976\n",
       "2    2002 209.4108\n",
       "3    2003 212.7552\n",
       "4    2004 216.1464\n",
       "358  2005 219.6000\n",
       "5    2006 223.1280\n",
       "6    2007 226.7280\n",
       "7    2008 230.3940\n",
       "8    2009 234.1200\n",
       "715  2010 237.9000\n",
       "9    2011 241.7304\n",
       "10   2012 245.6172\n",
       "11   2013 249.5688\n",
       "12   2014 253.5936\n",
       "1072 2015 257.7000\n",
       "13   2016 261.8920\n",
       "14   2017 266.1560\n",
       "15   2018 270.4740\n",
       "16   2019 274.8280\n",
       "1429 2020 279.2000"
      ]
     },
     "metadata": {},
     "output_type": "display_data"
    }
   ],
   "source": [
    "extra <- extra[with(extra, order(year, estimate)), ]\n",
    "extra"
   ]
  }
 ],
 "metadata": {
  "kernelspec": {
   "display_name": "R",
   "language": "R",
   "name": "ir"
  },
  "language_info": {
   "codemirror_mode": "r",
   "file_extension": ".r",
   "mimetype": "text/x-r-source",
   "name": "R",
   "pygments_lexer": "r",
   "version": "4.1.2"
  }
 },
 "nbformat": 4,
 "nbformat_minor": 5
}
