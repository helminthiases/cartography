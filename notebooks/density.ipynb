{
 "cells": [
  {
   "cell_type": "markdown",
   "id": "f1cacee6-7a96-4cbb-b555-51a36f1beee2",
   "metadata": {},
   "source": [
    "<br>\n",
    "\n",
    "# Population Densities & Missing Years\n",
    "\n"
   ]
  },
  {
   "cell_type": "markdown",
   "id": "fceb3583-b117-491a-b6ff-c42b0582ac61",
   "metadata": {},
   "source": [
    "## Setting Up"
   ]
  },
  {
   "cell_type": "markdown",
   "id": "aaccb1d6-ee7d-4a05-b776-1d606ae79133",
   "metadata": {},
   "source": [
    "Libraries"
   ]
  },
  {
   "cell_type": "code",
   "execution_count": 1,
   "id": "82640eac-2ebd-4174-9959-fa376f3f43d7",
   "metadata": {},
   "outputs": [
    {
     "name": "stderr",
     "output_type": "stream",
     "text": [
      "Warning message:\n",
      "\"package 'ggplot2' was built under R version 4.1.3\"\n"
     ]
    }
   ],
   "source": [
    "library(ggplot2, quietly = TRUE)"
   ]
  },
  {
   "cell_type": "markdown",
   "id": "f0e70c8c-602b-419a-97ee-ed7403fac40b",
   "metadata": {},
   "source": [
    "<br>\n",
    "\n",
    "Working directory"
   ]
  },
  {
   "cell_type": "code",
   "execution_count": 2,
   "id": "796ad28b-a417-4dee-b8f5-991ca0e122f4",
   "metadata": {},
   "outputs": [
    {
     "data": {
      "text/html": [
       "'J:/library/helminthiases/spatial'"
      ],
      "text/latex": [
       "'J:/library/helminthiases/spatial'"
      ],
      "text/markdown": [
       "'J:/library/helminthiases/spatial'"
      ],
      "text/plain": [
       "[1] \"J:/library/helminthiases/spatial\""
      ]
     },
     "metadata": {},
     "output_type": "display_data"
    }
   ],
   "source": [
    "setwd(base::dirname(getwd()))\n",
    "getwd()"
   ]
  },
  {
   "cell_type": "markdown",
   "id": "74135071-ff22-4005-8c9f-b4b4e3987f0a",
   "metadata": {},
   "source": [
    "<br>\n",
    "\n",
    "## Functions"
   ]
  },
  {
   "cell_type": "markdown",
   "id": "266078c8-3141-4f3b-aa2b-e3bddcfafa85",
   "metadata": {},
   "source": [
    "For extracting & interpolating population density estimates."
   ]
  },
  {
   "cell_type": "code",
   "execution_count": 3,
   "id": "c96e73c3-1d72-403e-9e24-09c38016ccb1",
   "metadata": {},
   "outputs": [],
   "source": [
    "source(file = 'R/features/population/PointMapping.R')\n",
    "source(file = 'R/features/population/Interpolating.R')"
   ]
  },
  {
   "cell_type": "markdown",
   "id": "ff9e798c-12ff-4ffa-9818-67d68b4d52ab",
   "metadata": {},
   "source": [
    "<br>\n",
    "\n",
    "## Arguments"
   ]
  },
  {
   "cell_type": "markdown",
   "id": "3d893c60-0792-4ba4-936c-b82f802e6d6e",
   "metadata": {},
   "source": [
    "The list of experiment files"
   ]
  },
  {
   "cell_type": "code",
   "execution_count": 4,
   "id": "53f306fe-0b93-49f1-a0e3-bd9735801894",
   "metadata": {},
   "outputs": [],
   "source": [
    "files <- list.files(path = file.path(getwd(), 'warehouse', 'features', 'WASH'),\n",
    "                    full.names = TRUE)"
   ]
  },
  {
   "cell_type": "markdown",
   "id": "468f5ff9-4788-49b3-98b5-41a3cf5069be",
   "metadata": {},
   "source": [
    "<br>\n",
    "\n",
    "Selecting a sample file"
   ]
  },
  {
   "cell_type": "code",
   "execution_count": 5,
   "id": "f2a03edc-486b-4e21-b217-d8d8eb477365",
   "metadata": {},
   "outputs": [
    {
     "data": {
      "text/html": [
       "'J:/library/helminthiases/spatial/warehouse/features/WASH/CD.csv'"
      ],
      "text/latex": [
       "'J:/library/helminthiases/spatial/warehouse/features/WASH/CD.csv'"
      ],
      "text/markdown": [
       "'J:/library/helminthiases/spatial/warehouse/features/WASH/CD.csv'"
      ],
      "text/plain": [
       "[1] \"J:/library/helminthiases/spatial/warehouse/features/WASH/CD.csv\""
      ]
     },
     "metadata": {},
     "output_type": "display_data"
    }
   ],
   "source": [
    "file <- files[6]\n",
    "file"
   ]
  },
  {
   "cell_type": "markdown",
   "id": "9e0fde78-7a78-4e67-8372-cafdfdb1abbf",
   "metadata": {},
   "source": [
    "<br>\n",
    "\n",
    "Other arguments"
   ]
  },
  {
   "cell_type": "code",
   "execution_count": 6,
   "id": "2dbcff3a-a906-4f2c-a627-aa006c694936",
   "metadata": {},
   "outputs": [],
   "source": [
    "years <- seq(from = 2000, to = 2020, by = 5)\n",
    "root <- file.path(getwd(), 'data', 'population')\n",
    "affix <- '_30s.tif'"
   ]
  },
  {
   "cell_type": "markdown",
   "id": "199b3bab-7ce7-4932-addf-b049445d7ea4",
   "metadata": {},
   "source": [
    "<br>\n",
    "\n",
    "Clearing"
   ]
  },
  {
   "cell_type": "code",
   "execution_count": 7,
   "id": "bcec1f8f-693c-48b1-92eb-e04dc0185a62",
   "metadata": {},
   "outputs": [],
   "source": [
    "# storage\n",
    "storage <- file.path(getwd(), 'warehouse', 'features', 'population', file)\n",
    "if (dir.exists(storage)) {\n",
    "  base::unlink(x = storage, recursive = TRUE)\n",
    "}"
   ]
  },
  {
   "cell_type": "markdown",
   "id": "e2505f97-f5a4-44c3-a756-5f860bf848ab",
   "metadata": {},
   "source": [
    "<br>\n",
    "\n",
    "## Estimates"
   ]
  },
  {
   "cell_type": "markdown",
   "id": "3ba5bbdb-aee5-49a8-a30e-6fb2095d9953",
   "metadata": {},
   "source": [
    "An experiments file"
   ]
  },
  {
   "cell_type": "code",
   "execution_count": 8,
   "id": "53c709ac-384b-4157-b2b9-742b50ab4aae",
   "metadata": {},
   "outputs": [],
   "source": [
    "frame <- read.csv(file = file, encoding = 'UTF-8')"
   ]
  },
  {
   "cell_type": "code",
   "execution_count": 9,
   "id": "7fcd95b9-6681-4d70-9330-2b653cf5562f",
   "metadata": {},
   "outputs": [
    {
     "name": "stdout",
     "output_type": "stream",
     "text": [
      "'data.frame':\t1864 obs. of  41 variables:\n",
      " $ iso3            : chr  \"COD\" \"COD\" \"COD\" \"COD\" ...\n",
      " $ iso2            : chr  \"CD\" \"CD\" \"CD\" \"CD\" ...\n",
      " $ admin1_id       : int  1498 1506 1498 1506 1506 1506 1506 1506 1506 1506 ...\n",
      " $ admin2_id       : int  24760 24780 24760 24779 24780 24779 24779 24779 24779 24777 ...\n",
      " $ iu_id           : int  13954 14228 13936 14219 14225 14220 14286 14221 14258 14276 ...\n",
      " $ site_id         : int  11460 50809 11327 50726 50772 50730 52022 50735 51550 51875 ...\n",
      " $ longitude       : num  20.4 25.2 21 30.5 25.3 ...\n",
      " $ latitude        : num  2.42 1.09 2.78 3.05 1.57 ...\n",
      " $ georeliability  : int  3 3 3 3 3 3 3 3 3 3 ...\n",
      " $ location_type   : chr  \"\" \"\" \"\" \"\" ...\n",
      " $ survey_type     : chr  \"\" \"\" \"\" \"\" ...\n",
      " $ year            : int  2015 2013 2015 2013 2013 2013 2013 2013 2013 2013 ...\n",
      " $ age_start       : int  NA NA NA NA NA NA NA NA NA NA ...\n",
      " $ age_end         : int  NA NA NA NA NA NA NA NA NA NA ...\n",
      " $ hk_examined     : int  50 50 50 30 50 50 50 50 50 50 ...\n",
      " $ hk_positive     : int  23 14 1 0 26 0 0 1 0 9 ...\n",
      " $ asc_examined    : int  50 50 50 30 50 50 50 50 50 50 ...\n",
      " $ asc_positive    : int  3 18 29 1 13 0 0 1 1 1 ...\n",
      " $ tt_examined     : int  50 50 50 30 50 50 50 50 50 50 ...\n",
      " $ tt_positive     : int  0 8 19 0 3 0 0 0 0 12 ...\n",
      " $ quality         : int  1 1 1 1 1 1 1 1 1 1 ...\n",
      " $ sn              : int  3473 4249 3387 4197 4235 4201 4481 4206 4372 4447 ...\n",
      " $ hk_prevalence   : num  0.46 0.28 0.02 0 0.52 0 0 0.02 0 0.18 ...\n",
      " $ asc_prevalence  : num  0.06 0.36 0.58 0.0333 0.26 ...\n",
      " $ tt_prevalence   : num  0 0.16 0.38 0 0.06 0 0 0 0 0.24 ...\n",
      " $ sth_prevalence  : num  0.4645 0.5782 0.7026 0.0314 0.6284 ...\n",
      " $ shortest        : num  11747 4882 17928 2740 1731 ...\n",
      " $ id              : int  0 1 2 3 4 5 6 7 8 9 ...\n",
      " $ src             : int  0 1 2 3 4 5 6 7 8 9 ...\n",
      " $ dst             : int  0 1 2 3 4 5 6 7 8 9 ...\n",
      " $ identifier      : int  1 2 3 4 5 6 7 8 9 10 ...\n",
      " $ improved_sewer  : num  27.2 20.7 40.7 55.5 20.7 ...\n",
      " $ unpiped_sewer   : num  26.6 19.5 40.4 54 20.4 ...\n",
      " $ surface_sewer   : num  15.92 14.98 27.2 7.93 19.48 ...\n",
      " $ piped_sewer     : num  0.55 1.216 0.294 1.485 0.319 ...\n",
      " $ unimproved_sewer: num  56.9 64.3 32.1 36.6 59.8 ...\n",
      " $ improved_water  : num  38.1 39.4 31.9 41.5 76.1 ...\n",
      " $ unpiped_water   : num  24 27.7 21.9 34.9 76 ...\n",
      " $ surface_water   : num  10.33 15.82 9.35 9.47 4.74 ...\n",
      " $ piped_water     : num  14.04 11.68 10.07 6.61 0.14 ...\n",
      " $ unimproved_water: num  51.6 44.8 58.7 49 19.1 ...\n"
     ]
    }
   ],
   "source": [
    "str(frame)"
   ]
  },
  {
   "cell_type": "markdown",
   "id": "870adac2-8165-45be-9898-b5cfce5f12ea",
   "metadata": {},
   "source": [
    "<br>\n",
    "\n",
    "### Extracting Densities"
   ]
  },
  {
   "cell_type": "markdown",
   "id": "d510b332-23ef-43fd-9a9b-e291f19d1456",
   "metadata": {},
   "source": [
    "\n",
    "Next, extracting population density estimates, per map year, from the \n",
    "\n",
    "* [`geodata`](https://github.com/rspatial/geodata#data): The `geodata` population density maps are [accessible directly](https://geodata.ucdavis.edu/geodata/pop/), and are the Gridded Population of the World maps.\n",
    "* [Gridded Populations of the World](https://sedac.ciesin.columbia.edu/data/collection/gpw-v4/documentation)\n",
    "\n",
    "Map year estimates only exist for the years $2000,2005, 2010, 2015, 2020$.  Hence, and per observation, the population density estimates per map year; extracted from the maps via the observation's co&ouml;rdinates."
   ]
  },
  {
   "cell_type": "code",
   "execution_count": 10,
   "id": "c0744adc-cade-4be3-9d00-9a0374902026",
   "metadata": {},
   "outputs": [
    {
     "data": {
      "text/html": [
       "<table class=\"dataframe\">\n",
       "<caption>A data.frame: 6 × 5</caption>\n",
       "<thead>\n",
       "\t<tr><th></th><th scope=col>estimate</th><th scope=col>longitude</th><th scope=col>latitude</th><th scope=col>id</th><th scope=col>year</th></tr>\n",
       "\t<tr><th></th><th scope=col>&lt;dbl&gt;</th><th scope=col>&lt;dbl&gt;</th><th scope=col>&lt;dbl&gt;</th><th scope=col>&lt;int&gt;</th><th scope=col>&lt;int&gt;</th></tr>\n",
       "</thead>\n",
       "<tbody>\n",
       "\t<tr><th scope=row>1</th><td>23.35333</td><td>20.39833</td><td>2.415278</td><td>0</td><td>2000</td></tr>\n",
       "\t<tr><th scope=row>2</th><td> 6.30000</td><td>25.24098</td><td>1.091740</td><td>1</td><td>2000</td></tr>\n",
       "\t<tr><th scope=row>3</th><td>23.40000</td><td>21.04194</td><td>2.784722</td><td>2</td><td>2000</td></tr>\n",
       "\t<tr><th scope=row>4</th><td>69.00000</td><td>30.54483</td><td>3.053970</td><td>3</td><td>2000</td></tr>\n",
       "\t<tr><th scope=row>5</th><td> 6.30000</td><td>25.31193</td><td>1.565600</td><td>4</td><td>2000</td></tr>\n",
       "\t<tr><th scope=row>6</th><td>69.00000</td><td>30.82867</td><td>2.861280</td><td>5</td><td>2000</td></tr>\n",
       "</tbody>\n",
       "</table>\n"
      ],
      "text/latex": [
       "A data.frame: 6 × 5\n",
       "\\begin{tabular}{r|lllll}\n",
       "  & estimate & longitude & latitude & id & year\\\\\n",
       "  & <dbl> & <dbl> & <dbl> & <int> & <int>\\\\\n",
       "\\hline\n",
       "\t1 & 23.35333 & 20.39833 & 2.415278 & 0 & 2000\\\\\n",
       "\t2 &  6.30000 & 25.24098 & 1.091740 & 1 & 2000\\\\\n",
       "\t3 & 23.40000 & 21.04194 & 2.784722 & 2 & 2000\\\\\n",
       "\t4 & 69.00000 & 30.54483 & 3.053970 & 3 & 2000\\\\\n",
       "\t5 &  6.30000 & 25.31193 & 1.565600 & 4 & 2000\\\\\n",
       "\t6 & 69.00000 & 30.82867 & 2.861280 & 5 & 2000\\\\\n",
       "\\end{tabular}\n"
      ],
      "text/markdown": [
       "\n",
       "A data.frame: 6 × 5\n",
       "\n",
       "| <!--/--> | estimate &lt;dbl&gt; | longitude &lt;dbl&gt; | latitude &lt;dbl&gt; | id &lt;int&gt; | year &lt;int&gt; |\n",
       "|---|---|---|---|---|---|\n",
       "| 1 | 23.35333 | 20.39833 | 2.415278 | 0 | 2000 |\n",
       "| 2 |  6.30000 | 25.24098 | 1.091740 | 1 | 2000 |\n",
       "| 3 | 23.40000 | 21.04194 | 2.784722 | 2 | 2000 |\n",
       "| 4 | 69.00000 | 30.54483 | 3.053970 | 3 | 2000 |\n",
       "| 5 |  6.30000 | 25.31193 | 1.565600 | 4 | 2000 |\n",
       "| 6 | 69.00000 | 30.82867 | 2.861280 | 5 | 2000 |\n",
       "\n"
      ],
      "text/plain": [
       "  estimate longitude latitude id year\n",
       "1 23.35333 20.39833  2.415278 0  2000\n",
       "2  6.30000 25.24098  1.091740 1  2000\n",
       "3 23.40000 21.04194  2.784722 2  2000\n",
       "4 69.00000 30.54483  3.053970 3  2000\n",
       "5  6.30000 25.31193  1.565600 4  2000\n",
       "6 69.00000 30.82867  2.861280 5  2000"
      ]
     },
     "metadata": {},
     "output_type": "display_data"
    }
   ],
   "source": [
    "estimates <- mapply(FUN = PointMapping, year = years, MoreArgs = list(root = root, affix = affix, frame = frame))\n",
    "estimates <- dplyr::bind_rows(estimates)\n",
    "row.names(estimates) <- NULL\n",
    "\n",
    "head(estimates)"
   ]
  },
  {
   "cell_type": "markdown",
   "id": "bc6cfe8e-f4ae-4490-9563-fec10f943bfb",
   "metadata": {},
   "source": [
    "<br>\n",
    "\n",
    "### Unavailable Densities"
   ]
  },
  {
   "cell_type": "markdown",
   "id": "ea352c8b-e8d6-4204-93e4-85908b402c23",
   "metadata": {},
   "source": [
    "Missing values can't be interpolated."
   ]
  },
  {
   "cell_type": "code",
   "execution_count": 11,
   "id": "a0f8b300-617c-44a3-8f10-a4bb1625cd5e",
   "metadata": {},
   "outputs": [
    {
     "data": {
      "text/html": [
       "<style>\n",
       ".list-inline {list-style: none; margin:0; padding: 0}\n",
       ".list-inline>li {display: inline-block}\n",
       ".list-inline>li:not(:last-child)::after {content: \"\\00b7\"; padding: 0 .5ex}\n",
       "</style>\n",
       "<ol class=list-inline><li>22</li><li>23</li><li>131</li><li>184</li><li>292</li><li>294</li><li>325</li><li>326</li><li>329</li><li>338</li><li>339</li><li>341</li><li>348</li><li>428</li><li>708</li><li>722</li><li>736</li><li>856</li><li>892</li><li>999</li><li>1014</li><li>1043</li><li>1052</li><li>1067</li><li>1118</li><li>1134</li><li>1135</li><li>1171</li><li>1181</li><li>1232</li><li>1298</li><li>1310</li><li>1329</li><li>1342</li><li>1399</li><li>1417</li><li>1581</li><li>1582</li><li>1584</li><li>1585</li><li>1586</li><li>1589</li><li>1590</li><li>1591</li><li>1593</li><li>1594</li><li>1606</li><li>1620</li><li>1674</li><li>1680</li><li>1689</li><li>1694</li><li>1697</li><li>1764</li><li>1765</li><li>1766</li><li>1788</li><li>1799</li><li>1808</li></ol>\n"
      ],
      "text/latex": [
       "\\begin{enumerate*}\n",
       "\\item 22\n",
       "\\item 23\n",
       "\\item 131\n",
       "\\item 184\n",
       "\\item 292\n",
       "\\item 294\n",
       "\\item 325\n",
       "\\item 326\n",
       "\\item 329\n",
       "\\item 338\n",
       "\\item 339\n",
       "\\item 341\n",
       "\\item 348\n",
       "\\item 428\n",
       "\\item 708\n",
       "\\item 722\n",
       "\\item 736\n",
       "\\item 856\n",
       "\\item 892\n",
       "\\item 999\n",
       "\\item 1014\n",
       "\\item 1043\n",
       "\\item 1052\n",
       "\\item 1067\n",
       "\\item 1118\n",
       "\\item 1134\n",
       "\\item 1135\n",
       "\\item 1171\n",
       "\\item 1181\n",
       "\\item 1232\n",
       "\\item 1298\n",
       "\\item 1310\n",
       "\\item 1329\n",
       "\\item 1342\n",
       "\\item 1399\n",
       "\\item 1417\n",
       "\\item 1581\n",
       "\\item 1582\n",
       "\\item 1584\n",
       "\\item 1585\n",
       "\\item 1586\n",
       "\\item 1589\n",
       "\\item 1590\n",
       "\\item 1591\n",
       "\\item 1593\n",
       "\\item 1594\n",
       "\\item 1606\n",
       "\\item 1620\n",
       "\\item 1674\n",
       "\\item 1680\n",
       "\\item 1689\n",
       "\\item 1694\n",
       "\\item 1697\n",
       "\\item 1764\n",
       "\\item 1765\n",
       "\\item 1766\n",
       "\\item 1788\n",
       "\\item 1799\n",
       "\\item 1808\n",
       "\\end{enumerate*}\n"
      ],
      "text/markdown": [
       "1. 22\n",
       "2. 23\n",
       "3. 131\n",
       "4. 184\n",
       "5. 292\n",
       "6. 294\n",
       "7. 325\n",
       "8. 326\n",
       "9. 329\n",
       "10. 338\n",
       "11. 339\n",
       "12. 341\n",
       "13. 348\n",
       "14. 428\n",
       "15. 708\n",
       "16. 722\n",
       "17. 736\n",
       "18. 856\n",
       "19. 892\n",
       "20. 999\n",
       "21. 1014\n",
       "22. 1043\n",
       "23. 1052\n",
       "24. 1067\n",
       "25. 1118\n",
       "26. 1134\n",
       "27. 1135\n",
       "28. 1171\n",
       "29. 1181\n",
       "30. 1232\n",
       "31. 1298\n",
       "32. 1310\n",
       "33. 1329\n",
       "34. 1342\n",
       "35. 1399\n",
       "36. 1417\n",
       "37. 1581\n",
       "38. 1582\n",
       "39. 1584\n",
       "40. 1585\n",
       "41. 1586\n",
       "42. 1589\n",
       "43. 1590\n",
       "44. 1591\n",
       "45. 1593\n",
       "46. 1594\n",
       "47. 1606\n",
       "48. 1620\n",
       "49. 1674\n",
       "50. 1680\n",
       "51. 1689\n",
       "52. 1694\n",
       "53. 1697\n",
       "54. 1764\n",
       "55. 1765\n",
       "56. 1766\n",
       "57. 1788\n",
       "58. 1799\n",
       "59. 1808\n",
       "\n",
       "\n"
      ],
      "text/plain": [
       " [1]   22   23  131  184  292  294  325  326  329  338  339  341  348  428  708\n",
       "[16]  722  736  856  892  999 1014 1043 1052 1067 1118 1134 1135 1171 1181 1232\n",
       "[31] 1298 1310 1329 1342 1399 1417 1581 1582 1584 1585 1586 1589 1590 1591 1593\n",
       "[46] 1594 1606 1620 1674 1680 1689 1694 1697 1764 1765 1766 1788 1799 1808"
      ]
     },
     "metadata": {},
     "output_type": "display_data"
    }
   ],
   "source": [
    "unavailable <- estimates[is.na(estimates$estimate), ]\n",
    "indices <- unique(unavailable$id)\n",
    "indices"
   ]
  },
  {
   "cell_type": "code",
   "execution_count": 12,
   "id": "aced983b-2025-491a-8107-f666fdfbaceb",
   "metadata": {},
   "outputs": [],
   "source": [
    "estimates <- estimates[!(estimates$id %in% indices), ]"
   ]
  },
  {
   "cell_type": "markdown",
   "id": "8769ae53-8657-4e93-a25b-f0526e66be01",
   "metadata": {},
   "source": [
    "<br>\n",
    "\n",
    "### Interpolating"
   ]
  },
  {
   "cell_type": "markdown",
   "id": "b23d7e91-bca1-4fb5-83de-ba9f4e83fe6b",
   "metadata": {},
   "source": [
    "\n",
    "In <estimates> each observation of <frame> is associated with population density estimates for the years {2000, 2005, 2010, 2015, 2020}.  Remember, the observation\n",
    "code is field <id>.  The function Interpolating(.) estimates the population densities of the intervening years."
   ]
  },
  {
   "cell_type": "code",
   "execution_count": 13,
   "id": "d0fadcf2-9140-4e77-81d3-dce25c4e2630",
   "metadata": {},
   "outputs": [],
   "source": [
    "interpolations <- mapply(FUN = Interpolating, id = unique(estimates$id),\n",
    "                         MoreArgs = list(estimates = estimates, years = years))\n",
    "interpolations <- dplyr::bind_rows(interpolations)\n",
    "row.names(interpolations) <- NULL\n",
    "interpolations <- dplyr::rename(interpolations, 'p_density' = 'estimate')"
   ]
  },
  {
   "cell_type": "code",
   "execution_count": 14,
   "id": "b57d3ac3-57d6-410b-87fe-382d91f28251",
   "metadata": {},
   "outputs": [
    {
     "name": "stdout",
     "output_type": "stream",
     "text": [
      "'data.frame':\t37905 obs. of  3 variables:\n",
      " $ year     : int  2000 2001 2002 2003 2004 2005 2006 2007 2008 2009 ...\n",
      " $ p_density: num  23.4 24.3 25.2 26.1 27.1 ...\n",
      " $ id       : int  0 0 0 0 0 0 0 0 0 0 ...\n"
     ]
    }
   ],
   "source": [
    "str(interpolations)"
   ]
  },
  {
   "cell_type": "markdown",
   "id": "e2c776c4-67c4-4a4d-98a5-fb7370b3f291",
   "metadata": {},
   "source": [
    "<br>\n",
    "\n",
    "### Joining/Merging"
   ]
  },
  {
   "cell_type": "markdown",
   "id": "86e00cc4-de3a-4c93-8cfa-646943c76c2d",
   "metadata": {},
   "source": [
    "Finally, appending a population density field to <frame>"
   ]
  },
  {
   "cell_type": "code",
   "execution_count": 15,
   "id": "7af68e2d-a8e7-475b-8d8a-e58cb3e48735",
   "metadata": {},
   "outputs": [],
   "source": [
    "extended <- dplyr::left_join(x = frame, y = interpolations, by = c('id', 'year'))"
   ]
  },
  {
   "cell_type": "markdown",
   "id": "415fd2db-63bc-49ad-8ff6-8e648c634fdd",
   "metadata": {},
   "source": [
    "<br>\n",
    "\n",
    "Unavailable"
   ]
  },
  {
   "cell_type": "code",
   "execution_count": 16,
   "id": "79b10cbb-30ff-4ace-a72e-b47424e3ac09",
   "metadata": {},
   "outputs": [
    {
     "name": "stdout",
     "output_type": "stream",
     "text": [
      "Population density estimates indeterminable for 79 observations."
     ]
    }
   ],
   "source": [
    "cat(glue::glue('Population density estimates indeterminable for {sum(is.na(extended$p_density))} observations.'))"
   ]
  },
  {
   "cell_type": "markdown",
   "id": "e3985ec2-8db5-4040-9b32-5e184dc79394",
   "metadata": {},
   "source": [
    "<br>\n",
    "\n",
    "## Illustrating"
   ]
  },
  {
   "cell_type": "markdown",
   "id": "7afc1338-7786-46b8-9cae-1014efcd957f",
   "metadata": {},
   "source": [
    "### Interpolated Densities Example"
   ]
  },
  {
   "cell_type": "code",
   "execution_count": 17,
   "id": "d65c9d55-0178-48bf-b8c0-1bac45f45f99",
   "metadata": {},
   "outputs": [],
   "source": [
    "sample <- interpolations[interpolations$id == 3, ]\n",
    "sample$segment <- 'with interpolations'"
   ]
  },
  {
   "cell_type": "code",
   "execution_count": 18,
   "id": "a126d4fd-6736-4d4a-80f6-949e9e6301b9",
   "metadata": {},
   "outputs": [],
   "source": [
    "original <- sample[sample$year %in% years, ]\n",
    "original$segment <- 'estimate'"
   ]
  },
  {
   "cell_type": "code",
   "execution_count": 19,
   "id": "654a4017-28a9-4194-a7c6-6e70900e5149",
   "metadata": {},
   "outputs": [
    {
     "data": {
      "text/html": [
       "<table class=\"dataframe\">\n",
       "<caption>A data.frame: 26 × 4</caption>\n",
       "<thead>\n",
       "\t<tr><th></th><th scope=col>year</th><th scope=col>p_density</th><th scope=col>id</th><th scope=col>segment</th></tr>\n",
       "\t<tr><th></th><th scope=col>&lt;int&gt;</th><th scope=col>&lt;dbl&gt;</th><th scope=col>&lt;int&gt;</th><th scope=col>&lt;chr&gt;</th></tr>\n",
       "</thead>\n",
       "<tbody>\n",
       "\t<tr><th scope=row>64</th><td>2000</td><td> 69.00000</td><td>3</td><td>estimate           </td></tr>\n",
       "\t<tr><th scope=row>69</th><td>2005</td><td> 84.20000</td><td>3</td><td>estimate           </td></tr>\n",
       "\t<tr><th scope=row>74</th><td>2010</td><td>102.80000</td><td>3</td><td>estimate           </td></tr>\n",
       "\t<tr><th scope=row>79</th><td>2015</td><td>125.50000</td><td>3</td><td>estimate           </td></tr>\n",
       "\t<tr><th scope=row>84</th><td>2020</td><td>153.20000</td><td>3</td><td>estimate           </td></tr>\n",
       "\t<tr><th scope=row>641</th><td>2000</td><td> 69.00000</td><td>3</td><td>with interpolations</td></tr>\n",
       "\t<tr><th scope=row>65</th><td>2001</td><td> 71.90423</td><td>3</td><td>with interpolations</td></tr>\n",
       "\t<tr><th scope=row>66</th><td>2002</td><td> 74.84240</td><td>3</td><td>with interpolations</td></tr>\n",
       "\t<tr><th scope=row>67</th><td>2003</td><td> 77.84845</td><td>3</td><td>with interpolations</td></tr>\n",
       "\t<tr><th scope=row>68</th><td>2004</td><td> 80.95634</td><td>3</td><td>with interpolations</td></tr>\n",
       "\t<tr><th scope=row>691</th><td>2005</td><td> 84.20000</td><td>3</td><td>with interpolations</td></tr>\n",
       "\t<tr><th scope=row>70</th><td>2006</td><td> 87.60663</td><td>3</td><td>with interpolations</td></tr>\n",
       "\t<tr><th scope=row>71</th><td>2007</td><td> 91.17646</td><td>3</td><td>with interpolations</td></tr>\n",
       "\t<tr><th scope=row>72</th><td>2008</td><td> 94.90297</td><td>3</td><td>with interpolations</td></tr>\n",
       "\t<tr><th scope=row>73</th><td>2009</td><td> 98.77966</td><td>3</td><td>with interpolations</td></tr>\n",
       "\t<tr><th scope=row>741</th><td>2010</td><td>102.80000</td><td>3</td><td>with interpolations</td></tr>\n",
       "\t<tr><th scope=row>75</th><td>2011</td><td>106.96286</td><td>3</td><td>with interpolations</td></tr>\n",
       "\t<tr><th scope=row>76</th><td>2012</td><td>111.28857</td><td>3</td><td>with interpolations</td></tr>\n",
       "\t<tr><th scope=row>77</th><td>2013</td><td>115.80286</td><td>3</td><td>with interpolations</td></tr>\n",
       "\t<tr><th scope=row>78</th><td>2014</td><td>120.53143</td><td>3</td><td>with interpolations</td></tr>\n",
       "\t<tr><th scope=row>791</th><td>2015</td><td>125.50000</td><td>3</td><td>with interpolations</td></tr>\n",
       "\t<tr><th scope=row>80</th><td>2016</td><td>130.72114</td><td>3</td><td>with interpolations</td></tr>\n",
       "\t<tr><th scope=row>81</th><td>2017</td><td>136.15486</td><td>3</td><td>with interpolations</td></tr>\n",
       "\t<tr><th scope=row>82</th><td>2018</td><td>141.74800</td><td>3</td><td>with interpolations</td></tr>\n",
       "\t<tr><th scope=row>83</th><td>2019</td><td>147.44743</td><td>3</td><td>with interpolations</td></tr>\n",
       "\t<tr><th scope=row>841</th><td>2020</td><td>153.20000</td><td>3</td><td>with interpolations</td></tr>\n",
       "</tbody>\n",
       "</table>\n"
      ],
      "text/latex": [
       "A data.frame: 26 × 4\n",
       "\\begin{tabular}{r|llll}\n",
       "  & year & p\\_density & id & segment\\\\\n",
       "  & <int> & <dbl> & <int> & <chr>\\\\\n",
       "\\hline\n",
       "\t64 & 2000 &  69.00000 & 3 & estimate           \\\\\n",
       "\t69 & 2005 &  84.20000 & 3 & estimate           \\\\\n",
       "\t74 & 2010 & 102.80000 & 3 & estimate           \\\\\n",
       "\t79 & 2015 & 125.50000 & 3 & estimate           \\\\\n",
       "\t84 & 2020 & 153.20000 & 3 & estimate           \\\\\n",
       "\t641 & 2000 &  69.00000 & 3 & with interpolations\\\\\n",
       "\t65 & 2001 &  71.90423 & 3 & with interpolations\\\\\n",
       "\t66 & 2002 &  74.84240 & 3 & with interpolations\\\\\n",
       "\t67 & 2003 &  77.84845 & 3 & with interpolations\\\\\n",
       "\t68 & 2004 &  80.95634 & 3 & with interpolations\\\\\n",
       "\t691 & 2005 &  84.20000 & 3 & with interpolations\\\\\n",
       "\t70 & 2006 &  87.60663 & 3 & with interpolations\\\\\n",
       "\t71 & 2007 &  91.17646 & 3 & with interpolations\\\\\n",
       "\t72 & 2008 &  94.90297 & 3 & with interpolations\\\\\n",
       "\t73 & 2009 &  98.77966 & 3 & with interpolations\\\\\n",
       "\t741 & 2010 & 102.80000 & 3 & with interpolations\\\\\n",
       "\t75 & 2011 & 106.96286 & 3 & with interpolations\\\\\n",
       "\t76 & 2012 & 111.28857 & 3 & with interpolations\\\\\n",
       "\t77 & 2013 & 115.80286 & 3 & with interpolations\\\\\n",
       "\t78 & 2014 & 120.53143 & 3 & with interpolations\\\\\n",
       "\t791 & 2015 & 125.50000 & 3 & with interpolations\\\\\n",
       "\t80 & 2016 & 130.72114 & 3 & with interpolations\\\\\n",
       "\t81 & 2017 & 136.15486 & 3 & with interpolations\\\\\n",
       "\t82 & 2018 & 141.74800 & 3 & with interpolations\\\\\n",
       "\t83 & 2019 & 147.44743 & 3 & with interpolations\\\\\n",
       "\t841 & 2020 & 153.20000 & 3 & with interpolations\\\\\n",
       "\\end{tabular}\n"
      ],
      "text/markdown": [
       "\n",
       "A data.frame: 26 × 4\n",
       "\n",
       "| <!--/--> | year &lt;int&gt; | p_density &lt;dbl&gt; | id &lt;int&gt; | segment &lt;chr&gt; |\n",
       "|---|---|---|---|---|\n",
       "| 64 | 2000 |  69.00000 | 3 | estimate            |\n",
       "| 69 | 2005 |  84.20000 | 3 | estimate            |\n",
       "| 74 | 2010 | 102.80000 | 3 | estimate            |\n",
       "| 79 | 2015 | 125.50000 | 3 | estimate            |\n",
       "| 84 | 2020 | 153.20000 | 3 | estimate            |\n",
       "| 641 | 2000 |  69.00000 | 3 | with interpolations |\n",
       "| 65 | 2001 |  71.90423 | 3 | with interpolations |\n",
       "| 66 | 2002 |  74.84240 | 3 | with interpolations |\n",
       "| 67 | 2003 |  77.84845 | 3 | with interpolations |\n",
       "| 68 | 2004 |  80.95634 | 3 | with interpolations |\n",
       "| 691 | 2005 |  84.20000 | 3 | with interpolations |\n",
       "| 70 | 2006 |  87.60663 | 3 | with interpolations |\n",
       "| 71 | 2007 |  91.17646 | 3 | with interpolations |\n",
       "| 72 | 2008 |  94.90297 | 3 | with interpolations |\n",
       "| 73 | 2009 |  98.77966 | 3 | with interpolations |\n",
       "| 741 | 2010 | 102.80000 | 3 | with interpolations |\n",
       "| 75 | 2011 | 106.96286 | 3 | with interpolations |\n",
       "| 76 | 2012 | 111.28857 | 3 | with interpolations |\n",
       "| 77 | 2013 | 115.80286 | 3 | with interpolations |\n",
       "| 78 | 2014 | 120.53143 | 3 | with interpolations |\n",
       "| 791 | 2015 | 125.50000 | 3 | with interpolations |\n",
       "| 80 | 2016 | 130.72114 | 3 | with interpolations |\n",
       "| 81 | 2017 | 136.15486 | 3 | with interpolations |\n",
       "| 82 | 2018 | 141.74800 | 3 | with interpolations |\n",
       "| 83 | 2019 | 147.44743 | 3 | with interpolations |\n",
       "| 841 | 2020 | 153.20000 | 3 | with interpolations |\n",
       "\n"
      ],
      "text/plain": [
       "    year p_density id segment            \n",
       "64  2000  69.00000 3  estimate           \n",
       "69  2005  84.20000 3  estimate           \n",
       "74  2010 102.80000 3  estimate           \n",
       "79  2015 125.50000 3  estimate           \n",
       "84  2020 153.20000 3  estimate           \n",
       "641 2000  69.00000 3  with interpolations\n",
       "65  2001  71.90423 3  with interpolations\n",
       "66  2002  74.84240 3  with interpolations\n",
       "67  2003  77.84845 3  with interpolations\n",
       "68  2004  80.95634 3  with interpolations\n",
       "691 2005  84.20000 3  with interpolations\n",
       "70  2006  87.60663 3  with interpolations\n",
       "71  2007  91.17646 3  with interpolations\n",
       "72  2008  94.90297 3  with interpolations\n",
       "73  2009  98.77966 3  with interpolations\n",
       "741 2010 102.80000 3  with interpolations\n",
       "75  2011 106.96286 3  with interpolations\n",
       "76  2012 111.28857 3  with interpolations\n",
       "77  2013 115.80286 3  with interpolations\n",
       "78  2014 120.53143 3  with interpolations\n",
       "791 2015 125.50000 3  with interpolations\n",
       "80  2016 130.72114 3  with interpolations\n",
       "81  2017 136.15486 3  with interpolations\n",
       "82  2018 141.74800 3  with interpolations\n",
       "83  2019 147.44743 3  with interpolations\n",
       "841 2020 153.20000 3  with interpolations"
      ]
     },
     "metadata": {},
     "output_type": "display_data"
    }
   ],
   "source": [
    "series <- base::rbind(original, sample)\n",
    "series"
   ]
  },
  {
   "cell_type": "markdown",
   "id": "e955362d-5a45-43c5-80f6-d7019b16a766",
   "metadata": {},
   "source": [
    "<br>\n",
    "\n",
    "### The Graph\n",
    "\n"
   ]
  },
  {
   "cell_type": "markdown",
   "id": "41441227-b14c-4eff-ba9b-78e683fecf3b",
   "metadata": {},
   "source": [
    "Note, within `ggplot2::theme(.)` below - the arguments of `ggplot2::margin(.)` are\n",
    "\n",
    "```shell\n",
    "ggplot2::margin(t = 0, r = 0, b = 0, l = 0, unit = 'pt')\n",
    "```"
   ]
  },
  {
   "cell_type": "code",
   "execution_count": 20,
   "id": "71635d6f-cf9e-47c9-a9fb-22f840922701",
   "metadata": {},
   "outputs": [
    {
     "data": {
      "image/png": "[encoded data removed]",
      "text/plain": [
       "plot without title"
      ]
     },
     "metadata": {
      "image/png": {
       "height": 420,
       "width": 420
      }
     },
     "output_type": "display_data"
    }
   ],
   "source": [
    "ggplot(data = series, mapping = aes(x = year, y = p_density, colour = segment, shape = segment)) +\n",
    "    geom_point(alpha = 0.25, size = 5) + \n",
    "    geom_line(alpha = 0.25) + \n",
    "    theme_minimal() + \n",
    "    theme(panel.grid.minor = element_blank(),\n",
    "          panel.grid.major = element_line(size = 0.05),\n",
    "          plot.margin = margin(2, 1, 5, 3, 'cm'),\n",
    "          axis.title.x = element_text(size = 12), axis.title.y = element_text(size = 12),\n",
    "          axis.text.x = element_text(size = 10), axis.text.y = element_text(size = 10)) +\n",
    "    xlab(label = '\\nyear\\n') + \n",
    "    ylab(label = '\\npopulation density\\n')"
   ]
  }
 ],
 "metadata": {
  "kernelspec": {
   "display_name": "R",
   "language": "R",
   "name": "ir"
  },
  "language_info": {
   "codemirror_mode": "r",
   "file_extension": ".r",
   "mimetype": "text/x-r-source",
   "name": "R",
   "pygments_lexer": "r",
   "version": "4.1.2"
  }
 },
 "nbformat": 4,
 "nbformat_minor": 5
}
